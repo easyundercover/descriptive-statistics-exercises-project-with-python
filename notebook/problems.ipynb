{
    "cells": [
        {
            "cell_type": "markdown",
            "id": "ac622319",
            "metadata": {},
            "source": [
                "# Descriptive Statistics Problems"
            ]
        },
        {
            "cell_type": "markdown",
            "id": "aa8993e4",
            "metadata": {},
            "source": [
                "### Exercise 1"
            ]
        },
        {
            "cell_type": "markdown",
            "id": "5e0ab0d5",
            "metadata": {},
            "source": [
                "As right now, you are familliar with numpy, we are going to use numpy to get some data statistics.\n",
                "\n",
                "First, lets create an array of 20 elements distributed normally (Gaussian):\n",
                "\n",
                "Use the np.random.normal function to create some data, using 0,1,20 as parameters because we want a one dimentional array of 20 numbers distributed normally (Gaussian)"
            ]
        },
        {
            "cell_type": "code",
            "execution_count": 3,
            "id": "34720ab6",
            "metadata": {},
            "outputs": [
                {
                    "name": "stdout",
                    "output_type": "stream",
                    "text": [
                        "[-1.74976547  0.3426804   1.1530358  -0.25243604  0.98132079  0.51421884\n",
                        "  0.22117967 -1.07004333 -0.18949583  0.25500144 -0.45802699  0.43516349\n",
                        " -0.58359505  0.81684707  0.67272081 -0.10441114 -0.53128038  1.02973269\n",
                        " -0.43813562 -1.11831825]\n"
                    ]
                }
            ],
            "source": [
                "#import libraries\n",
                "import numpy as np\n",
                "import random\n",
                "\n",
                "# Set seed in order to get similar results\n",
                "np.random.seed(100)\n",
                "\n",
                "# create the data\n",
                "arr = np.random.normal(0, 1, 20)\n",
                "\n",
                "#print results\n",
                "print(arr)"
            ]
        },
        {
            "cell_type": "code",
            "execution_count": 4,
            "id": "49c55822",
            "metadata": {},
            "outputs": [
                {
                    "data": {
                        "text/plain": [
                            "-0.003680354880600778"
                        ]
                    },
                    "execution_count": 4,
                    "metadata": {},
                    "output_type": "execute_result"
                }
            ],
            "source": [
                "#Use numpy to get the mean of your data\n",
                "np.mean(arr)"
            ]
        },
        {
            "cell_type": "code",
            "execution_count": 5,
            "id": "03529459",
            "metadata": {},
            "outputs": [
                {
                    "data": {
                        "text/plain": [
                            "0.5874976403140509"
                        ]
                    },
                    "execution_count": 5,
                    "metadata": {},
                    "output_type": "execute_result"
                }
            ],
            "source": [
                "#get the variance of your data\n",
                "np.var(arr)"
            ]
        },
        {
            "cell_type": "code",
            "execution_count": 6,
            "id": "e53f30c5",
            "metadata": {},
            "outputs": [
                {
                    "data": {
                        "text/plain": [
                            "0.7664839465468608"
                        ]
                    },
                    "execution_count": 6,
                    "metadata": {},
                    "output_type": "execute_result"
                }
            ],
            "source": [
                "# Standard deviation\n",
                "np.std(arr)"
            ]
        },
        {
            "cell_type": "code",
            "execution_count": 10,
            "id": "9bce852f",
            "metadata": {},
            "outputs": [
                {
                    "data": {
                        "text/plain": [
                            "ModeResult(mode=array([-1.74976547]), count=array([1]))"
                        ]
                    },
                    "execution_count": 10,
                    "metadata": {},
                    "output_type": "execute_result"
                }
            ],
            "source": [
                "#import libraries and print the mode\n",
                "from scipy import stats\n",
                "\n",
                "# Mode for continuous array\n",
                "stats.mode(arr) #Todos los números aparecen una única vez"
            ]
        },
        {
            "cell_type": "code",
            "execution_count": 13,
            "id": "c682cb6e",
            "metadata": {},
            "outputs": [
                {
                    "data": {
                        "text/plain": [
                            "-0.10441114339062771"
                        ]
                    },
                    "execution_count": 13,
                    "metadata": {},
                    "output_type": "execute_result"
                }
            ],
            "source": [
                "# Median\n",
                "import statistics\n",
                "statistics.median_low(arr)"
            ]
        },
        {
            "cell_type": "code",
            "execution_count": 10,
            "id": "39c3fabd",
            "metadata": {},
            "outputs": [
                {
                    "data": {
                        "text/plain": [
                            "array([-0.47634033,  0.05838426,  0.55384433])"
                        ]
                    },
                    "execution_count": 10,
                    "metadata": {},
                    "output_type": "execute_result"
                }
            ],
            "source": [
                "# Print the Quantiles\n",
                "np.quantile(arr, (0.25, 0.5, 0.75)) #0.25 es el Q1, 0.5 el Q2 y 0.75 el Q3\n",
                "\n",
                "# This match with np.median, why?\n",
                "#El 0.5 es la media, o sea el Q2 divide los datos en dos \"dejando de un lado\" a los valores menores al 50%"
            ]
        },
        {
            "cell_type": "markdown",
            "id": "46c70c3d",
            "metadata": {},
            "source": [
                "### Exercise 2\n",
                "\n",
                "Write a Python program to calculate the standard deviation of the following data:\n",
                "```py\n",
                "data = [4, 2, 5, 8, 6]\n",
                "```"
            ]
        },
        {
            "cell_type": "code",
            "execution_count": 5,
            "id": "a6f6b791",
            "metadata": {},
            "outputs": [
                {
                    "name": "stdout",
                    "output_type": "stream",
                    "text": [
                        "[4, 2, 5, 8, 6]\n",
                        "La desviación estándar de data es: 2.23606797749979\n"
                    ]
                }
            ],
            "source": [
                "import math\n",
                "import sys\n",
                "\n",
                "# Define the standard deviation function (para una sample):\n",
                "def sd_calc(data):\n",
                "    resultado = 0\n",
                "    for i in range(len(data)):\n",
                "        resultado += (data[i] - np.mean(data))**2\n",
                "    return np.sqrt(resultado/(len(data) - 1))\n",
                "\n",
                "data = [4, 2, 5, 8, 6]\n",
                "\n",
                "# Print the data\n",
                "print(data)\n",
                "\n",
                "# Print the standard deviation of the data\n",
                "sd_calc(data)\n",
                "print(\"La desviación estándar de data es: \" + str(sd_calc(data)))"
            ]
        },
        {
            "cell_type": "code",
            "execution_count": 25,
            "id": "d590308e",
            "metadata": {},
            "outputs": [
                {
                    "name": "stdout",
                    "output_type": "stream",
                    "text": [
                        "[4, 2, 5, 8, 6]\n",
                        "El promedio de data es: 5.0\n"
                    ]
                }
            ],
            "source": [
                "import math\n",
                "import sys\n",
                "\n",
                "# Define the average function\n",
                "def avg_calc(ls):\n",
                "    global suma\n",
                "    suma = sum(ls)\n",
                "    global med\n",
                "    med = suma/len(ls)\n",
                "    return med\n",
                "\n",
                "data = [4, 2, 5, 8, 6]\n",
                "\n",
                "# Print the data\n",
                "print(data)\n",
                "\n",
                "# Print avg of data\n",
                "print(\"El promedio de data es: \" + str(avg_calc(data)))\n"
            ]
        },
        {
            "cell_type": "markdown",
            "id": "04b71791",
            "metadata": {},
            "source": [
                "Source:\n",
                "\n",
                "https://www.w3resource.com/"
            ]
        }
    ],
    "metadata": {
        "kernelspec": {
            "display_name": "Python 3.8.13 64-bit ('3.8.13')",
            "language": "python",
            "name": "python3"
        },
        "language_info": {
            "codemirror_mode": {
                "name": "ipython",
                "version": 3
            },
            "file_extension": ".py",
            "mimetype": "text/x-python",
            "name": "python",
            "nbconvert_exporter": "python",
            "pygments_lexer": "ipython3",
            "version": "3.8.13"
        },
        "vscode": {
            "interpreter": {
                "hash": "110cc1dee26208153f2972f08a2ad52b6a56238dc66d48e87fb757ef2996db56"
            }
        }
    },
    "nbformat": 4,
    "nbformat_minor": 5
}
